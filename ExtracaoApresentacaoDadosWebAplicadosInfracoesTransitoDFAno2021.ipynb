{
 "cells": [
  {
   "cell_type": "markdown",
   "metadata": {},
   "source": [
    "# EXTRAÇÃO E APRESENTAÇÃO DE DADOS DA WEB APLICADOS AS INFRAÇÕES DE TRÂNSITO DO DF, NO ANO DE 2021"
   ]
  },
  {
   "cell_type": "markdown",
   "metadata": {},
   "source": [
    "## Dados abertos do DETRAN-DF"
   ]
  },
  {
   "cell_type": "code",
   "execution_count": 4,
   "metadata": {},
   "outputs": [],
   "source": [
    "#Importação das bibliotecas usadas no projeto\n",
    "\n",
    "import csv\n",
    "import os\n",
    "import requests\n",
    "import pandas as pd\n",
    "#import mysql.connector\n",
    "import pyodbc\n",
    "import numpy as np\n",
    "from sklearn.linear_model import LinearRegression\n",
    "import statsmodels.api as sm\n",
    "import matplotlib.pyplot as plt\n",
    "from sklearn.preprocessing import LabelEncoder\n",
    "from sklearn.naive_bayes import GaussianNB\n",
    "from sklearn.cluster import KMeans\n",
    "from sklearn.linear_model import LogisticRegression\n",
    "from sklearn.model_selection import train_test_split\n",
    "from sklearn.metrics import confusion_matrix, classification_report\n",
    "from sklearn.metrics import roc_curve\n",
    "from sklearn.metrics import mean_absolute_error,mean_squared_error\n",
    "from sklearn import metrics\n",
    "import seaborn as sn\n",
    "from sklearn.linear_model import LinearRegression\n"
   ]
  },
  {
   "cell_type": "code",
   "execution_count": 5,
   "metadata": {},
   "outputs": [],
   "source": [
    "# Declaração das variaveis adotando o padrao para cada tipo de atributo\n",
    "\n",
    "atributo_string_dummy= 'Não Informado'\n",
    "atributo_data_dummy= '01/01/1900'\n",
    "atributo_hora_dummy= '00:00'\n",
    "atributo_numerico_dummy= 0.0\n",
    "atributo_int_dummy= 0\n",
    "atributo_latitude_dummy= -15.794149\n",
    "atributo_longitude_dummy= -47.883558\n",
    "\n",
    "# Variavel para guardar o caminho do diretorio onde estão os arquivo\n",
    "\n",
    "outputDir= 'C:\\\\Users\\\\ezequ\\\\Documents\\\\POS\\\\Meu_TCC\\\\dataSets\\\\'\n"
   ]
  },
  {
   "cell_type": "code",
   "execution_count": 6,
   "metadata": {},
   "outputs": [],
   "source": [
    "# Declaração e preenchimento das variaveis que receberá os links dos arquivos\n",
    "\n",
    "jan= ['http://dados.df.gov.br/dataset/3a3b7b40-c715-439d-9dff-f22b47fc5994/resource/b62e0d37-9c34-4ffa-ac41-656e1bceb12c/download/dados-abertos-jan.csv']\n",
    "fev= ['http://dados.df.gov.br/dataset/3a3b7b40-c715-439d-9dff-f22b47fc5994/resource/9f686d18-5457-46ca-b435-698e04ace6f3/download/dados-abertos-fev.csv']\n",
    "mar= ['http://dados.df.gov.br/dataset/3a3b7b40-c715-439d-9dff-f22b47fc5994/resource/8d5de22e-2e00-4ead-a422-6f478988c31e/download/cda-export.csv']\n",
    "abr= ['http://dados.df.gov.br/dataset/3a3b7b40-c715-439d-9dff-f22b47fc5994/resource/e5ecdfc2-87aa-4747-8de5-b35701cf19c7/download/relatorio-de-infracoes-mes-04-2021.csv']\n",
    "mai= ['http://dados.df.gov.br/dataset/3a3b7b40-c715-439d-9dff-f22b47fc5994/resource/6cbacb98-ecec-4b3e-8b1c-ea7bcf8c249f/download/dados-abertos-maio.csv']\n",
    "jun= ['http://dados.df.gov.br/dataset/3a3b7b40-c715-439d-9dff-f22b47fc5994/resource/493e9670-7a2a-42e4-a2a5-04eca058fc61/download/dados-abertos-junho.csv']\n",
    "jul= ['http://dados.df.gov.br/dataset/3a3b7b40-c715-439d-9dff-f22b47fc5994/resource/7592fa7d-865d-4d46-8ebe-8ecf7d40e8f4/download/dados-abertos-julho.csv']\n",
    "ago= ['http://dados.df.gov.br/dataset/3a3b7b40-c715-439d-9dff-f22b47fc5994/resource/e043db37-9754-48f1-b676-fa1542dba8de/download/dados-abertos-agosto-2021.csv']\n",
    "sete= ['http://dados.df.gov.br/dataset/3a3b7b40-c715-439d-9dff-f22b47fc5994/resource/455aa2ff-2a67-446a-b722-4d89efb769b4/download/infracoes-mes-09-2021.csv.csv']\n",
    "out= ['http://dados.df.gov.br/dataset/3a3b7b40-c715-439d-9dff-f22b47fc5994/resource/0e83efe8-e9cb-48e9-a8f2-f1d027fa3f02/download/infracoes-mes-10-2021.csv.csv']\n",
    "nov= ['http://dados.df.gov.br/dataset/3a3b7b40-c715-439d-9dff-f22b47fc5994/resource/c0974b48-5c16-4ca2-a519-feb2275faf07/download/novembro.csv']\n",
    "dez= ['http://dados.df.gov.br/dataset/3a3b7b40-c715-439d-9dff-f22b47fc5994/resource/2e077b23-363d-4b28-8503-fbd6b1b1818c/download/dezembro.csv']\n",
    "\n",
    "# Fazendo merge dos arquivos para criar lista completa dos links\n",
    "\n",
    "listaLink= jan+fev+mar+abr+mai+jun+jul+ago+sete+out+nov+dez"
   ]
  },
  {
   "cell_type": "code",
   "execution_count": 7,
   "metadata": {},
   "outputs": [],
   "source": [
    "# Função para baixar os arquivos,\n",
    "# A função usa a biblioteca requests para fazer o download dos arquivos\n",
    "\n",
    "def baixar_arquivo(url, endereco):\n",
    "    resposta= requests.get(url)\n",
    "\n",
    "    # If para capturar e tratar o codigo de retorno da URL\n",
    "    if resposta.status_code == 200:\n",
    "        with open(endereco, 'wb') as novoArquivo:\n",
    "            novoArquivo.write(resposta.content)\n",
    "        print(\"Download Finalizado. Arquivo salvo em: {}\".format(endereco))\n",
    "    else:\n",
    "        resposta.raise_for_status()"
   ]
  },
  {
   "cell_type": "code",
   "execution_count": 8,
   "metadata": {},
   "outputs": [
    {
     "name": "stdout",
     "output_type": "stream",
     "text": [
      "Download Finalizado. Arquivo salvo em: C:\\Users\\ezequ\\Documents\\POS\\Meu_TCC\\dataSets\\dados-abertos-jan.csv\n",
      "Download Finalizado. Arquivo salvo em: C:\\Users\\ezequ\\Documents\\POS\\Meu_TCC\\dataSets\\dados-abertos-fev.csv\n",
      "Download Finalizado. Arquivo salvo em: C:\\Users\\ezequ\\Documents\\POS\\Meu_TCC\\dataSets\\cda-export.csv\n",
      "Download Finalizado. Arquivo salvo em: C:\\Users\\ezequ\\Documents\\POS\\Meu_TCC\\dataSets\\relatorio-de-infracoes-mes-04-2021.csv\n",
      "Download Finalizado. Arquivo salvo em: C:\\Users\\ezequ\\Documents\\POS\\Meu_TCC\\dataSets\\dados-abertos-maio.csv\n",
      "Download Finalizado. Arquivo salvo em: C:\\Users\\ezequ\\Documents\\POS\\Meu_TCC\\dataSets\\dados-abertos-junho.csv\n",
      "Download Finalizado. Arquivo salvo em: C:\\Users\\ezequ\\Documents\\POS\\Meu_TCC\\dataSets\\dados-abertos-julho.csv\n",
      "Download Finalizado. Arquivo salvo em: C:\\Users\\ezequ\\Documents\\POS\\Meu_TCC\\dataSets\\dados-abertos-agosto-2021.csv\n",
      "Download Finalizado. Arquivo salvo em: C:\\Users\\ezequ\\Documents\\POS\\Meu_TCC\\dataSets\\infracoes-mes-09-2021.csv.csv\n",
      "Download Finalizado. Arquivo salvo em: C:\\Users\\ezequ\\Documents\\POS\\Meu_TCC\\dataSets\\infracoes-mes-10-2021.csv.csv\n",
      "Download Finalizado. Arquivo salvo em: C:\\Users\\ezequ\\Documents\\POS\\Meu_TCC\\dataSets\\novembro.csv\n",
      "Download Finalizado. Arquivo salvo em: C:\\Users\\ezequ\\Documents\\POS\\Meu_TCC\\dataSets\\dezembro.csv\n"
     ]
    }
   ],
   "source": [
    "# Usando o metodo main só para entrar no loop,\n",
    "# Este loop faz a interação do arquivo capturando o nome e extensão dentro do diretorio,\n",
    "# O loop usa a biblioteca OS para este processamento\n",
    "\n",
    "if __name__ == '__main__':\n",
    "    \n",
    "    for arquivo in listaLink:\n",
    "        baseURL= arquivo     \n",
    "        capturarNomeArquivo= os.path.splitext(arquivo)[0]\n",
    "        capturarExtensaoArquivo= os.path.splitext(arquivo)[1]\n",
    "        capturarNomeArquivo= capturarNomeArquivo+capturarExtensaoArquivo\n",
    "        nomeArquivo= capturarNomeArquivo.split('/')[-1]\n",
    "        nomeFormatoArquivo= os.path.join(outputDir, nomeArquivo.format(arquivo))\n",
    "        \n",
    "        #Envia o arquivo e o formato do mesmo para a função fazer o download\n",
    "        baixar_arquivo(baseURL.format(arquivo), nomeFormatoArquivo)\n",
    "        "
   ]
  },
  {
   "cell_type": "code",
   "execution_count": 10,
   "metadata": {},
   "outputs": [],
   "source": [
    "# Declaração e preenchimento das variaveis de renomeação dos arquivos,\n",
    "# para renomear os arquivos foi usado a biblioteca OS\n",
    "# Foi adotado um padrão de nomenclatura alterando só o mês no final do nome\n",
    "\n",
    "renomear01= os.rename('C:\\\\Users\\\\ezequ\\\\Documents\\\\POS\\\\Meu_TCC\\\\dataSets\\\\dados-abertos-jan.csv', 'C:\\\\Users\\\\ezequ\\\\Documents\\\\POS\\\\Meu_TCC\\\\dataSets\\\\dadosAbertosInfracoes202101.csv')\n",
    "renomear02= os.rename('C:\\\\Users\\\\ezequ\\\\Documents\\\\POS\\\\Meu_TCC\\\\dataSets\\\\dados-abertos-fev.csv', 'C:\\\\Users\\\\ezequ\\\\Documents\\\\POS\\\\Meu_TCC\\\\dataSets\\\\dadosAbertosInfracoes202102.csv')\n",
    "renomear03= os.rename('C:\\\\Users\\\\ezequ\\\\Documents\\\\POS\\\\Meu_TCC\\\\dataSets\\\\cda-export.csv', 'C:\\\\Users\\\\ezequ\\\\Documents\\\\POS\\\\Meu_TCC\\\\dataSets\\\\dadosAbertosInfracoes202103.csv')\n",
    "renomear04= os.rename('C:\\\\Users\\\\ezequ\\\\Documents\\\\POS\\\\Meu_TCC\\\\dataSets\\\\relatorio-de-infracoes-mes-04-2021.csv', 'C:\\\\Users\\\\ezequ\\\\Documents\\\\POS\\\\Meu_TCC\\\\dataSets\\\\dadosAbertosInfracoes202104.csv')\n",
    "renomear05= os.rename('C:\\\\Users\\\\ezequ\\\\Documents\\\\POS\\\\Meu_TCC\\\\dataSets\\\\dados-abertos-maio.csv', 'C:\\\\Users\\\\ezequ\\\\Documents\\\\POS\\\\Meu_TCC\\\\dataSets\\\\dadosAbertosInfracoes202105.csv')\n",
    "renomear06= os.rename('C:\\\\Users\\\\ezequ\\\\Documents\\\\POS\\\\Meu_TCC\\\\dataSets\\\\dados-abertos-junho.csv', 'C:\\\\Users\\\\ezequ\\\\Documents\\\\POS\\\\Meu_TCC\\\\dataSets\\\\dadosAbertosInfracoes202106.csv')\n",
    "renomear07= os.rename('C:\\\\Users\\\\ezequ\\\\Documents\\\\POS\\\\Meu_TCC\\\\dataSets\\\\dados-abertos-julho.csv', 'C:\\\\Users\\\\ezequ\\\\Documents\\\\POS\\\\Meu_TCC\\\\dataSets\\\\dadosAbertosInfracoes202107.csv')\n",
    "renomear08= os.rename('C:\\\\Users\\\\ezequ\\\\Documents\\\\POS\\\\Meu_TCC\\\\dataSets\\\\dados-abertos-agosto-2021.csv', 'C:\\\\Users\\\\ezequ\\\\Documents\\\\POS\\\\Meu_TCC\\\\dataSets\\\\dadosAbertosInfracoes202108.csv')\n",
    "renomear09= os.rename('C:\\\\Users\\\\ezequ\\\\Documents\\\\POS\\\\Meu_TCC\\\\dataSets\\\\infracoes-mes-09-2021.csv.csv', 'C:\\\\Users\\\\ezequ\\\\Documents\\\\POS\\\\Meu_TCC\\\\dataSets\\\\dadosAbertosInfracoes202109.csv')\n",
    "renomear10= os.rename('C:\\\\Users\\\\ezequ\\\\Documents\\\\POS\\\\Meu_TCC\\\\dataSets\\\\infracoes-mes-10-2021.csv.csv', 'C:\\\\Users\\\\ezequ\\\\Documents\\\\POS\\\\Meu_TCC\\\\dataSets\\\\dadosAbertosInfracoes202110.csv')\n",
    "renomear11= os.rename('C:\\\\Users\\\\ezequ\\\\Documents\\\\POS\\\\Meu_TCC\\\\dataSets\\\\novembro.csv', 'C:\\\\Users\\\\ezequ\\\\Documents\\\\POS\\\\Meu_TCC\\\\dataSets\\\\dadosAbertosInfracoes202111.csv')\n",
    "renomear12= os.rename('C:\\\\Users\\\\ezequ\\\\Documents\\\\POS\\\\Meu_TCC\\\\dataSets\\\\dezembro.csv', 'C:\\\\Users\\\\ezequ\\\\Documents\\\\POS\\\\Meu_TCC\\\\dataSets\\\\dadosAbertosInfracoes202112.csv')\n"
   ]
  },
  {
   "cell_type": "code",
   "execution_count": 25,
   "metadata": {},
   "outputs": [
    {
     "name": "stderr",
     "output_type": "stream",
     "text": [
      "C:\\Users\\ezequ\\anaconda3\\lib\\site-packages\\IPython\\core\\interactiveshell.py:3444: DtypeWarning: Columns (7) have mixed types.Specify dtype option on import or set low_memory=False.\n",
      "  exec(code_obj, self.user_global_ns, self.user_ns)\n"
     ]
    }
   ],
   "source": [
    "# Declarando variaveis do tipo lista e DataFrame vazias\n",
    "\n",
    "nomeArquivo=[]\n",
    "df= pd.DataFrame()\n",
    "\n",
    "# Loop de interação dentro do diretorio onde estão os arquivos,\n",
    "# Este faz a leitura dos arquivos do tipo csv,\n",
    "# Depois faz um merge dos arquivos criando apenas do tipo dataFrame,\n",
    "# Este loop usa a biblioteca OS e o PANDAS\n",
    "\n",
    "for i in os.listdir(outputDir):\n",
    "    frame= pd.read_csv(outputDir+'\\\\'+i, delimiter=';')\n",
    "    df= df.append(frame, ignore_index=True)\n",
    "\n"
   ]
  },
  {
   "cell_type": "code",
   "execution_count": 26,
   "metadata": {},
   "outputs": [],
   "source": [
    "# Inserindo uma coluna com condição sobre a natureza da infração\n",
    "# Essa coluna servirá para o merge dos Data Frames\n",
    "\n",
    "df.loc[df['grav_tipo']== 'Gravíssima', 'FK_Natureza_Infracao']= 1\n",
    "df.loc[df['grav_tipo']== 'Grave', 'FK_Natureza_Infracao']= 2\n",
    "df.loc[df['grav_tipo']== 'Média', 'FK_Natureza_Infracao']= 3\n",
    "df.loc[df['grav_tipo']== 'Leve', 'FK_Natureza_Infracao']= 4\n"
   ]
  },
  {
   "cell_type": "code",
   "execution_count": 27,
   "metadata": {},
   "outputs": [],
   "source": [
    "# Renomeando as colunas do dataFrame usando a bilbioteca PANDAS\n",
    "\n",
    "df= df.rename(columns={'auinf_local_rodovia':'nome_rodovia'\n",
    "                       ,'cometimento':'data_infracao'\n",
    "                       ,'hora_cometimento':'hora_infracao'\n",
    "                       ,'auinf_local_km':'km_rodovia'\n",
    "                       ,'auinf_local_referencia':'referencia_local'\n",
    "                       ,'auinf_local_complemento':'complemento_local'\n",
    "                       ,'auinf_local_latitude':'latitude_local_infracao'\n",
    "                       ,'auinf_local_longitude':'longitude_local_infracao'\n",
    "                       ,'grav_tipo':'natureza_infracao'})\n"
   ]
  },
  {
   "cell_type": "code",
   "execution_count": 28,
   "metadata": {},
   "outputs": [],
   "source": [
    "# Tratando os valores nulos com os valores das variaveis ja declaradas,\n",
    "# A biblioteca PANDAS está sendo usada nesse tratamento\n",
    "\n",
    "df.update(df['tipo_infracao'].fillna(atributo_string_dummy))\n",
    "df.update(df['descricao'].fillna(atributo_string_dummy))\n",
    "df.update(df['tipo_infrator'].fillna(atributo_string_dummy))\n",
    "df.update(df['tipo_veiculo'].fillna(atributo_string_dummy))\n",
    "df.update(df['data_infracao'].fillna(atributo_data_dummy))\n",
    "df.update(df['hora_infracao'].fillna(atributo_hora_dummy))\n",
    "df.update(df['nome_rodovia'].fillna(atributo_string_dummy))\n",
    "df.update(df['km_rodovia'].fillna(atributo_int_dummy))\n",
    "df.update(df['referencia_local'].fillna(atributo_string_dummy))\n",
    "df.update(df['complemento_local'].fillna(atributo_string_dummy))\n",
    "df.update(df['latitude_local_infracao'].fillna(atributo_latitude_dummy))\n",
    "df.update(df['longitude_local_infracao'].fillna(atributo_longitude_dummy))\n",
    "df.update(df['natureza_infracao'].fillna(atributo_string_dummy))\n"
   ]
  },
  {
   "cell_type": "code",
   "execution_count": 33,
   "metadata": {},
   "outputs": [],
   "source": [
    "# Fazendo a leitura do arquivo de tabela de multas\n",
    "# Alterando a coluna que irá fazer join com o outro dataset\n",
    "\n",
    "dfV= pd.read_excel('C:\\\\Users\\\\ezequ\\\\Documents\\\\POS\\\\Meu_TCC\\\\ValoresMultasDF.xlsx')\n",
    "dfV= dfV.rename(columns={'FK_Naturez_Infracao':'FK_Natureza_Infracao'\n",
    "                        ,'Naturez_Infracao':'Natureza_Infracao'})\n"
   ]
  },
  {
   "cell_type": "code",
   "execution_count": 34,
   "metadata": {},
   "outputs": [],
   "source": [
    "# Unindo os 12 arquivos de infrações do ano com o arquivo de tabela de multas\n",
    "\n",
    "df2= pd.merge(df, dfV, on='FK_Natureza_Infracao')\n"
   ]
  },
  {
   "cell_type": "code",
   "execution_count": 35,
   "metadata": {},
   "outputs": [],
   "source": [
    "# Deletando o caracter especial '-' da coluna\n",
    "\n",
    "df2['tipo_infracao']= df2['tipo_infracao'].str.replace('-', '')\n"
   ]
  },
  {
   "cell_type": "code",
   "execution_count": 36,
   "metadata": {},
   "outputs": [],
   "source": [
    "# Retirando os espaços da coluna e colocando os dados em caixa alta\n",
    "\n",
    "df2['tipo_veiculo']= df['tipo_veiculo'].str.replace(' ','')\n",
    "df2['tipo_veiculo']= df2['tipo_veiculo'].str.upper()\n",
    "df2['tipo_infrator']= df2['tipo_infrator'].str.upper()\n"
   ]
  },
  {
   "cell_type": "code",
   "execution_count": 37,
   "metadata": {},
   "outputs": [
    {
     "name": "stderr",
     "output_type": "stream",
     "text": [
      "C:\\Users\\ezequ\\AppData\\Local\\Temp/ipykernel_15564/3478631065.py:18: FutureWarning: The default value of regex will change from True to False in a future version.\n",
      "  df2['tipo_veiculo']= df2['tipo_veiculo'].str.replace('C.TRATOR','CAMINHAO')\n",
      "C:\\Users\\ezequ\\AppData\\Local\\Temp/ipykernel_15564/3478631065.py:21: FutureWarning: The default value of regex will change from True to False in a future version.\n",
      "  df2['tipo_veiculo']= df2['tipo_veiculo'].str.replace('S.REBOQUE','SEMI-REBOQUE')\n"
     ]
    }
   ],
   "source": [
    "# Tratando os dados para uma melhor padronização\n",
    "# Isso será melhor na leitura dos mesmo\n",
    "\n",
    "df2['tipo_veiculo']= df2['tipo_veiculo'].str.replace('CAMINHONET','CAMINHONETE')\n",
    "df2['tipo_veiculo']= df2['tipo_veiculo'].str.replace('Caminhonete','CAMINHONETE')\n",
    "df2['tipo_veiculo']= df2['tipo_veiculo'].str.replace('Camioneta','CAMINHONETE')\n",
    "df2['tipo_veiculo']= df2['tipo_veiculo'].str.replace('CAMIONETA','CAMINHONETE')\n",
    "df2['tipo_veiculo']= df2['tipo_veiculo'].str.replace('CAMINHONETEE','CAMINHONETE')\n",
    "df2['tipo_veiculo']= df2['tipo_veiculo'].str.replace('MOTOCICLET','MOTOCICLETA')\n",
    "df2['tipo_veiculo']= df2['tipo_veiculo'].str.replace('Motocicleta','MOTOCICLETA')\n",
    "df2['tipo_veiculo']= df2['tipo_veiculo'].str.replace('AUTOMÓVEL','AUTOMOVEL')\n",
    "df2['tipo_veiculo']= df2['tipo_veiculo'].str.replace('MOTOCICLETAA','MOTOCICLETA')\n",
    "df2['tipo_veiculo']= df2['tipo_veiculo'].str.replace('UTILITÁRIO','UTILITARIO')\n",
    "df2['tipo_veiculo']= df2['tipo_veiculo'].str.replace('ÔNIBUS','ONIBUS')\n",
    "df2['tipo_veiculo']= df2['tipo_veiculo'].str.replace('CAMINHÃO','CAMINHAO')\n",
    "df2['tipo_veiculo']= df2['tipo_veiculo'].str.replace('CAMINHÃOTRATOR','CAMINHAO')\n",
    "df2['tipo_veiculo']= df2['tipo_veiculo'].str.replace('CAMINHAOTRATOR','CAMINHAO')\n",
    "df2['tipo_veiculo']= df2['tipo_veiculo'].str.replace('C.TRATOR','CAMINHAO')\n",
    "df2['tipo_veiculo']= df2['tipo_veiculo'].str.replace('MICROONIBU','MICRO-ONIBUS')\n",
    "df2['tipo_veiculo']= df2['tipo_veiculo'].str.replace('MICROÔNIBUS','MICRO-ONIBUS')\n",
    "df2['tipo_veiculo']= df2['tipo_veiculo'].str.replace('S.REBOQUE','SEMI-REBOQUE')\n",
    "df2['tipo_veiculo']= df2['tipo_veiculo'].str.replace('MOTORCASA','MOTOR-CASA')\n",
    "df2['tipo_veiculo']= df2['tipo_veiculo'].str.replace('TRRODAS','TRATOR')\n",
    "df2['tipo_veiculo']= df2['tipo_veiculo'].str.replace('TRMISTO','TRATOR')\n",
    "df2['tipo_veiculo']= df2['tipo_veiculo'].str.replace('MICROONIBUSSSS','MICRO-ONIBUS')\n",
    "df2['tipo_veiculo']= df2['tipo_veiculo'].str.replace('MICROONIBUSSSSS','MICRO-ONIBUS')\n",
    "df2['tipo_veiculo']= df2['tipo_veiculo'].str.replace('MICRO-ONIBUSSSSSS','MICRO-ONIBUS')\n",
    "df2['tipo_veiculo']= df2['tipo_veiculo'].str.replace('MICRO-ONIBUSSSSS','MICRO-ONIBUS')\n"
   ]
  },
  {
   "cell_type": "code",
   "execution_count": 38,
   "metadata": {},
   "outputs": [],
   "source": [
    "# Ordenando os dados pela coluna\n",
    "# Essa ordenação é melhor para fazer as analises\n",
    "\n",
    "df2= df2.sort_values(by=['tipo_veiculo'])\n"
   ]
  },
  {
   "cell_type": "markdown",
   "metadata": {},
   "source": [
    "### Iniciando o Modelo de Regressão Linear"
   ]
  },
  {
   "cell_type": "code",
   "execution_count": 40,
   "metadata": {},
   "outputs": [
    {
     "name": "stderr",
     "output_type": "stream",
     "text": [
      "C:\\Users\\ezequ\\anaconda3\\lib\\site-packages\\statsmodels\\tsa\\tsatools.py:142: FutureWarning: In a future version of pandas all arguments of concat except for the argument 'objs' will be keyword-only\n",
      "  x = pd.concat(x[::order], 1)\n"
     ]
    },
    {
     "data": {
      "text/plain": [
       "0         136.42626\n",
       "650283    136.42626\n",
       "650284    136.42626\n",
       "650285    136.42626\n",
       "650288    136.42626\n",
       "            ...    \n",
       "235269    136.42626\n",
       "664571    136.42626\n",
       "90947     136.42626\n",
       "546467    136.42626\n",
       "438338    136.42626\n",
       "Length: 1070670, dtype: float64"
      ]
     },
     "execution_count": 40,
     "metadata": {},
     "output_type": "execute_result"
    }
   ],
   "source": [
    "# modelo de teste para verificar os dados\n",
    "\n",
    "x= round(df2['FK_Natureza_Infracao'],0)\n",
    "y= round(df2['Valor_Multa'],0)\n",
    "x_cons= sm.add_constant(x)\n",
    "resultado= sm.OLS(y, x_cons).fit()\n",
    "resultado.summary()\n",
    "resultado.predict(x_cons)"
   ]
  },
  {
   "cell_type": "code",
   "execution_count": 41,
   "metadata": {},
   "outputs": [
    {
     "name": "stdout",
     "output_type": "stream",
     "text": [
      "Acuracia = 0.95\n"
     ]
    }
   ],
   "source": [
    "# Criação do modelo real de regressão linear \n",
    "\n",
    "# Separando as colunas que será usada no modelo\n",
    "x= round(df2['FK_Natureza_Infracao'],0)\n",
    "y= round(df2['Valor_Multa'],0)\n",
    "\n",
    "# Criando um data frame vazio e inserindo as colunas ja separadas dentro dele\n",
    "dfPA= pd.DataFrame()\n",
    "dfPA['x'] = round(x,0)\n",
    "dfPA['y'] = round(y,0)\n",
    "x_v = dfPA[['x']]\n",
    "y_v = dfPA[['y']]\n",
    "\n",
    "# Inserindo o algoritimo do modelo em uma variavel\n",
    "modelo = LinearRegression()\n",
    "\n",
    "# Alterando a variavel x para um array e treinando o modelo\n",
    "x_v = np.array(x_v).reshape(-1, 1)\n",
    "modelo.fit(x_v, y_v)\n",
    "\n",
    "# Verificando a acuracia do modelo\n",
    "acuracia = modelo.score(x_v, y_v)\n",
    "print(\"Acuracia = {:0.2f}\".format(acuracia))\n"
   ]
  },
  {
   "cell_type": "code",
   "execution_count": 42,
   "metadata": {},
   "outputs": [
    {
     "data": {
      "image/png": "[encoded data removed]",
      "text/plain": [
       "<Figure size 432x288 with 1 Axes>"
      ]
     },
     "metadata": {
      "needs_background": "light"
     },
     "output_type": "display_data"
    }
   ],
   "source": [
    "# Criando as variaveis com os coeficientes de plotagem da reta\n",
    "coef_angular = modelo.coef_[0]\n",
    "coef_linear = modelo.intercept_\n",
    "reta = coef_angular*x_v+coef_linear\n",
    "\n",
    "# Plotando os dados do modelo no grafico \n",
    "plt.scatter(x_v,y_v,label='Y(X)');\n",
    "plt.plot(x_v,reta,label='Ajuste linear',color='red');\n",
    "plt.xlabel('x_v');\n",
    "plt.ylabel('y_v');\n",
    "plt.legend();\n"
   ]
  },
  {
   "cell_type": "code",
   "execution_count": 43,
   "metadata": {},
   "outputs": [
    {
     "name": "stdout",
     "output_type": "stream",
     "text": [
      "Probabilidade de erro = 9.92\n",
      "Distância da reta = 11.53\n"
     ]
    }
   ],
   "source": [
    "# Mostrar os valores de erro do modelo e a distância enre a reta\n",
    "\n",
    "erro = mean_absolute_error(y_v,reta)\n",
    "entreReta = np.sqrt(mean_squared_error(y_v,reta))\n",
    "print(\"Probabilidade de erro = {:0.2f}\".format(erro))\n",
    "print(\"Distância da reta = {:0.2f}\".format(entreReta))\n"
   ]
  },
  {
   "cell_type": "code",
   "execution_count": null,
   "metadata": {},
   "outputs": [],
   "source": []
  },
  {
   "cell_type": "markdown",
   "metadata": {},
   "source": [
    "#### Terminando o linear"
   ]
  },
  {
   "cell_type": "markdown",
   "metadata": {},
   "source": [
    "### Iniciando o modelo Naive Bayes"
   ]
  },
  {
   "cell_type": "code",
   "execution_count": 50,
   "metadata": {},
   "outputs": [],
   "source": [
    "# Separando os atributos que serão usados no modelo:\n",
    "# tipo_infrator, tipo_veiculo e natureza_infracao\n",
    "\n",
    "df3= df2.iloc[:,[2,3,14]].values\n",
    "x_infracao= df3[:,0:2] # Preditora\n",
    "y_infracao= df3[:,2] # Classe\n"
   ]
  },
  {
   "cell_type": "code",
   "execution_count": 51,
   "metadata": {},
   "outputs": [],
   "source": [
    "# Criação do enconder para vincular um numero unico para cada atributo\n",
    "\n",
    "encoderTipoInfrator= LabelEncoder()\n",
    "encoderTipoVeiculo= LabelEncoder()\n",
    "encoderNaturezaInfracao= LabelEncoder()\n",
    "\n",
    "# Vinculando o encoder ao seu atributo especifico\n",
    "x_infracao[:,0]= encoderTipoInfrator.fit_transform(x_infracao[:,0])\n",
    "x_infracao[:,1]= encoderTipoVeiculo.fit_transform(x_infracao[:,1])\n"
   ]
  },
  {
   "cell_type": "code",
   "execution_count": 52,
   "metadata": {},
   "outputs": [
    {
     "data": {
      "text/plain": [
       "GaussianNB()"
      ]
     },
     "execution_count": 52,
     "metadata": {},
     "output_type": "execute_result"
    }
   ],
   "source": [
    "# Inserindo o algoritimo do modelo em uma variavel \n",
    "infracaoNB= GaussianNB()\n",
    "\n",
    "# Fazendo o treinamento do modelo\n",
    "infracaoNB.fit(x_infracao, y_infracao)\n"
   ]
  },
  {
   "cell_type": "code",
   "execution_count": 53,
   "metadata": {},
   "outputs": [
    {
     "data": {
      "text/plain": [
       "array(['Leve', 'Leve'], dtype='<U10')"
      ]
     },
     "execution_count": 53,
     "metadata": {},
     "output_type": "execute_result"
    }
   ],
   "source": [
    "# Verificando a predição do modelo\n",
    "# Condutor [0], Automovel [0]\n",
    "# Condutor [0], Motocicleta [11]\n",
    "\n",
    "prev= infracaoNB.predict([[0,0],[0,11]])\n",
    "prev\n"
   ]
  },
  {
   "cell_type": "code",
   "execution_count": 24,
   "metadata": {},
   "outputs": [
    {
     "data": {
      "text/plain": [
       "array(['Grave', 'Gravíssima', 'Leve', 'Média'], dtype='<U10')"
      ]
     },
     "execution_count": 24,
     "metadata": {},
     "output_type": "execute_result"
    }
   ],
   "source": [
    "#Verificando as classes dos dados\n",
    "infracaoNB.classes_"
   ]
  },
  {
   "cell_type": "code",
   "execution_count": 25,
   "metadata": {},
   "outputs": [
    {
     "data": {
      "text/plain": [
       "array([ 94385.,  86377., 181130., 708778.])"
      ]
     },
     "execution_count": 25,
     "metadata": {},
     "output_type": "execute_result"
    }
   ],
   "source": [
    "# Contando os dados por classe\n",
    "infracaoNB.class_count_"
   ]
  },
  {
   "cell_type": "code",
   "execution_count": 26,
   "metadata": {},
   "outputs": [
    {
     "data": {
      "text/plain": [
       "array([0.08815508, 0.08067565, 0.16917444, 0.66199483])"
      ]
     },
     "execution_count": 26,
     "metadata": {},
     "output_type": "execute_result"
    }
   ],
   "source": [
    "# Percentual de dados em cada classe\n",
    "infracaoNB.class_prior_"
   ]
  },
  {
   "cell_type": "code",
   "execution_count": null,
   "metadata": {},
   "outputs": [],
   "source": []
  },
  {
   "cell_type": "markdown",
   "metadata": {},
   "source": [
    "#### Terminando o navie bayes"
   ]
  },
  {
   "cell_type": "markdown",
   "metadata": {},
   "source": [
    "### Iniciando Modelo de Regressão Logisitca"
   ]
  },
  {
   "cell_type": "code",
   "execution_count": 58,
   "metadata": {},
   "outputs": [],
   "source": [
    "# Inserindo mais um atributo no Data Frame para ser usado como target no modelo a seguir\n",
    "\n",
    "df2.loc[df2['FK_Natureza_Infracao']== 1, 'flagNaturezaPrevisao']= 1\n",
    "df2.loc[df2['FK_Natureza_Infracao']== 2, 'flagNaturezaPrevisao']= 0\n",
    "df2.loc[df2['FK_Natureza_Infracao']== 3, 'flagNaturezaPrevisao']= 0\n",
    "df2.loc[df2['FK_Natureza_Infracao']== 4, 'flagNaturezaPrevisao']= 0\n"
   ]
  },
  {
   "cell_type": "code",
   "execution_count": 59,
   "metadata": {},
   "outputs": [],
   "source": [
    "# Separando os atributos que serão usados no modelo:\n",
    "# tipo_infracao, tipo_infrator, tipo_veiculo, natureza_infracao e flagNaturezaPrevisao\n",
    "\n",
    "df4= df2.iloc[:,[0,2,3,12,17]].values\n",
    "X= df4[:,0:4] # Preditora\n",
    "y= df4[:,4] # Classe\n",
    "\n",
    "# Alterando o tipo de dado da classe para inteiro\n",
    "y= y.astype(int)\n"
   ]
  },
  {
   "cell_type": "code",
   "execution_count": 60,
   "metadata": {},
   "outputs": [],
   "source": [
    "# Criação do enconder para vincular um numero unico para cada atributo\n",
    "\n",
    "encoderTipoInfracao= LabelEncoder()\n",
    "encoderTipoInfrator= LabelEncoder()\n",
    "encoderTipoVeiculo= LabelEncoder()\n",
    "encoderNaturezaInfracao= LabelEncoder()\n",
    "\n",
    "# Vinculando o encoder ao seu atributo especifico\n",
    "X[:,0]= encoderTipoInfracao.fit_transform(X[:,0])\n",
    "X[:,1]= encoderTipoInfrator.fit_transform(X[:,1])\n",
    "X[:,2]= encoderTipoVeiculo.fit_transform(X[:,2])\n",
    "X[:,3]= encoderNaturezaInfracao.fit_transform(X[:,3])\n"
   ]
  },
  {
   "cell_type": "code",
   "execution_count": 61,
   "metadata": {},
   "outputs": [],
   "source": [
    "# Separando 25% dos dados para treino\n",
    "X_train, X_test, y_train, y_test = train_test_split(X, y, test_size = 0.25, random_state=0)\n"
   ]
  },
  {
   "cell_type": "code",
   "execution_count": 62,
   "metadata": {},
   "outputs": [],
   "source": [
    "# Inserindo o algoritimo do modelo em uma variavel \n",
    "# Fazendo o treinamento do modelo\n",
    "\n",
    "logicaReg= LogisticRegression()\n",
    "logicaReg.fit(X_train, y_train)\n",
    "predY= logicaReg.predict(X_test)\n"
   ]
  },
  {
   "cell_type": "code",
   "execution_count": 63,
   "metadata": {},
   "outputs": [
    {
     "data": {
      "text/plain": [
       "<AxesSubplot:xlabel='Predicao', ylabel='Atual'>"
      ]
     },
     "execution_count": 63,
     "metadata": {},
     "output_type": "execute_result"
    },
    {
     "data": {
      "image/png": "[encoded data removed]",
      "text/plain": [
       "<Figure size 432x288 with 2 Axes>"
      ]
     },
     "metadata": {
      "needs_background": "light"
     },
     "output_type": "display_data"
    }
   ],
   "source": [
    "# Gerando a matriz de confusão após a predição do modelo ser slava em variavel\n",
    "\n",
    "matrixConfusao= pd.crosstab(y_test, predY, rownames=['Atual'], colnames=['Predicao'])\n",
    "sn.heatmap(matrixConfusao, annot=True)"
   ]
  },
  {
   "cell_type": "code",
   "execution_count": 137,
   "metadata": {},
   "outputs": [
    {
     "name": "stdout",
     "output_type": "stream",
     "text": [
      "Acuracy:  0.8782783149274475\n"
     ]
    }
   ],
   "source": [
    "# Verificando a acuracia do modelo\n",
    "\n",
    "print('Acuracy: ', metrics.accuracy_score(y_test, predY))\n",
    "plt.show()"
   ]
  },
  {
   "cell_type": "code",
   "execution_count": null,
   "metadata": {},
   "outputs": [],
   "source": [
    "#df2['tipo_infracao'].tail(1000000)"
   ]
  },
  {
   "cell_type": "code",
   "execution_count": 64,
   "metadata": {
    "scrolled": true
   },
   "outputs": [],
   "source": [
    "#df2['tipo_infrator'].tail(1000000)"
   ]
  },
  {
   "cell_type": "code",
   "execution_count": 65,
   "metadata": {},
   "outputs": [],
   "source": [
    "#df2['tipo_veiculo'].tail(1000000)"
   ]
  },
  {
   "cell_type": "code",
   "execution_count": 66,
   "metadata": {},
   "outputs": [],
   "source": [
    "#df2['natureza_infracao'].tail(1000000)"
   ]
  },
  {
   "cell_type": "code",
   "execution_count": 67,
   "metadata": {},
   "outputs": [],
   "source": [
    "#df2['flagNaturezaPrevisao'].tail(1000000)"
   ]
  },
  {
   "cell_type": "code",
   "execution_count": 69,
   "metadata": {},
   "outputs": [],
   "source": [
    "#dfV= df2.query('natureza_infracao == \"Gravíssima\"')\n",
    "#for i in X[0:1000000]: print(i)\n",
    "#X[-1]"
   ]
  },
  {
   "cell_type": "code",
   "execution_count": 70,
   "metadata": {},
   "outputs": [],
   "source": [
    "# Após a analise acima para verificar os encoders dos dados\n",
    "# inserir em um dicionario os codigos para o modelo prever\n",
    "#Acima da maxima 20%[241] Condutor[0] Utilitario[22] média[3]\n",
    "\n",
    "testePrevisao= {'tipoInfracao':241, 'condutor':0, 'utilitario':22, 'media':3}\n",
    "dfTP= pd.DataFrame(data= testePrevisao, index=[0])\n",
    "result= logicaReg.predict(dfTP)\n"
   ]
  },
  {
   "cell_type": "code",
   "execution_count": 71,
   "metadata": {},
   "outputs": [
    {
     "name": "stdout",
     "output_type": "stream",
     "text": [
      "[0]\n"
     ]
    }
   ],
   "source": [
    "# Depois de executar o modelo verificar o resultado\n",
    "# 1 Possibilidade de Gravissima 0 Não a possibilidade\n",
    "print(result)"
   ]
  },
  {
   "cell_type": "code",
   "execution_count": null,
   "metadata": {},
   "outputs": [],
   "source": []
  },
  {
   "cell_type": "markdown",
   "metadata": {},
   "source": [
    "#### Terminando Regressão Logistica"
   ]
  },
  {
   "cell_type": "code",
   "execution_count": null,
   "metadata": {},
   "outputs": [],
   "source": []
  },
  {
   "cell_type": "code",
   "execution_count": 16,
   "metadata": {},
   "outputs": [],
   "source": [
    "'''\n",
    "    Criação da string de conexão.\n",
    "    Para inserir os dados no banco a maquina do docker ja deve estar executando\n",
    "    com o servidor do sql server e a tabela criada no banco\n",
    "'''\n",
    "\n",
    "connection = pyodbc.connect('Driver={ODBC Driver 17 for SQL Server};'\n",
    "                            'Server=localhost,1433;'\n",
    "                            'Database=INFRACAO;'\n",
    "                            'UID=sa;'\n",
    "                            'PWD=Password@01')\n",
    "\n",
    "cursor = connection.cursor()\n",
    "\n",
    "# Loop de interação com o banco de dados,\n",
    "# O loop insere em uma tabela já criada no banco de daos,\n",
    "# A inserção acontece linha a linha\n",
    "\n",
    "for index, row in df.iterrows():\n",
    "    cursor.execute(\"INSERT INTO  dbo.DADOS_INFRACAO(tipo_infracao,descricao,tipo_infrator,tipo_veiculo,data_infracao,hora_infracao,nome_rodovia,km_rodovia,referencia_local,complemento_local,latitude_local_infracao,longitude_local_infracao,natureza_infracao) VALUES(?,?,?,?,?,?,?,?,?,?,?,?,?)\",\n",
    "                    row.tipo_infracao,\n",
    "                    row.descricao,\n",
    "                    row.tipo_infrator,\n",
    "                    row.tipo_veiculo,\n",
    "                    row.data_infracao,\n",
    "                    row.hora_infracao,\n",
    "                    row.nome_rodovia,\n",
    "                    row.km_rodovia,\n",
    "                    row.referencia_local,\n",
    "                    row.complemento_local,\n",
    "                    row.latitude_local_infracao,\n",
    "                    row.longitude_local_infracao,\n",
    "                    row.natureza_infracao)\n",
    "\n",
    "    #Comitando e fechando a conexão\n",
    "connection.commit()\n",
    "cursor.close()\n"
   ]
  },
  {
   "cell_type": "markdown",
   "metadata": {},
   "source": [
    "### FIM"
   ]
  }
 ],
 "metadata": {
  "kernelspec": {
   "display_name": "Python 3 (ipykernel)",
   "language": "python",
   "name": "python3"
  },
  "language_info": {
   "codemirror_mode": {
    "name": "ipython",
    "version": 3
   },
   "file_extension": ".py",
   "mimetype": "text/x-python",
   "name": "python",
   "nbconvert_exporter": "python",
   "pygments_lexer": "ipython3",
   "version": "3.9.7"
  }
 },
 "nbformat": 4,
 "nbformat_minor": 4
}
